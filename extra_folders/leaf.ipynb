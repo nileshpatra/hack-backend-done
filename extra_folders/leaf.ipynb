{
 "cells": [
  {
   "cell_type": "code",
   "execution_count": 1,
   "metadata": {},
   "outputs": [
    {
     "ename": "FileNotFoundError",
     "evalue": "[Errno 2] No such file or directory: 'pred.txt'",
     "output_type": "error",
     "traceback": [
      "\u001b[0;31m---------------------------------------------------------------------------\u001b[0m",
      "\u001b[0;31mFileNotFoundError\u001b[0m                         Traceback (most recent call last)",
      "\u001b[0;32m<ipython-input-1-f919db00dd64>\u001b[0m in \u001b[0;36m<module>\u001b[0;34m()\u001b[0m\n\u001b[1;32m      8\u001b[0m \u001b[0;32mimport\u001b[0m \u001b[0mapple_call\u001b[0m\u001b[0;34m\u001b[0m\u001b[0;34m\u001b[0m\u001b[0m\n\u001b[1;32m      9\u001b[0m \u001b[0;34m\u001b[0m\u001b[0m\n\u001b[0;32m---> 10\u001b[0;31m \u001b[0mfile\u001b[0m \u001b[0;34m=\u001b[0m \u001b[0mopen\u001b[0m\u001b[0;34m(\u001b[0m\u001b[0;34m'pred.txt'\u001b[0m \u001b[0;34m,\u001b[0m \u001b[0;34m'r'\u001b[0m\u001b[0;34m)\u001b[0m\u001b[0;34m\u001b[0m\u001b[0;34m\u001b[0m\u001b[0m\n\u001b[0m\u001b[1;32m     11\u001b[0m \u001b[0;32mclass\u001b[0m \u001b[0mneural_net\u001b[0m\u001b[0;34m(\u001b[0m\u001b[0mnn\u001b[0m\u001b[0;34m.\u001b[0m\u001b[0mModule\u001b[0m\u001b[0;34m)\u001b[0m\u001b[0;34m:\u001b[0m\u001b[0;34m\u001b[0m\u001b[0;34m\u001b[0m\u001b[0m\n\u001b[1;32m     12\u001b[0m     \u001b[0;32mdef\u001b[0m \u001b[0m__init__\u001b[0m\u001b[0;34m(\u001b[0m\u001b[0mself\u001b[0m\u001b[0;34m)\u001b[0m\u001b[0;34m:\u001b[0m\u001b[0;34m\u001b[0m\u001b[0;34m\u001b[0m\u001b[0m\n",
      "\u001b[0;31mFileNotFoundError\u001b[0m: [Errno 2] No such file or directory: 'pred.txt'"
     ]
    }
   ],
   "source": [
    "import torch\n",
    "import torchvision\n",
    "import pickle\n",
    "from torch import optim \n",
    "import torch.nn as nn\n",
    "import torch.nn.functional as F\n",
    "from torchvision import transforms,datasets\n",
    "import apple_call\n",
    "\n",
    "file = open('pred.txt' , 'r')\n",
    "class neural_net(nn.Module):\n",
    "    def __init__(self):\n",
    "        super().__init__()\n",
    "        #64*64*3\n",
    "        self.conv1 = nn.Conv2d(3 , 32 , 3 , padding = 1)\n",
    "        #32*32*32\n",
    "        self.conv2 = nn.Conv2d(32 , 64 , 3 , padding = 1)\n",
    "        #16*16*64\n",
    "        self.conv3 = nn.Conv2d(64 , 32 , 3 , padding = 1)\n",
    "        #8*8*32\n",
    "        self.dropout = nn.Dropout(0.2)\n",
    "        self.pool = nn.MaxPool2d(2,2)\n",
    "        self.fc1 = nn.Linear(8*8*32 , 100)\n",
    "        self.fc2 = nn.Linear(100 , 64)\n",
    "        self.fc3 = nn.Linear(64 , 32)\n",
    "        self.fc4 = nn.Linear(32 , 4)\n",
    "        \n",
    "        \n",
    "    def forward(self , x):\n",
    "        x = self.pool(F.relu(self.conv1(x)))\n",
    "        x = self.pool(F.relu(self.conv2(x)))\n",
    "        x = self.pool(F.relu(self.conv3(x)))\n",
    "        x = x.view(-1 , 8*8*32)\n",
    "        x = self.dropout(x)\n",
    "        x = F.relu(self.fc1(x))\n",
    "        x = F.relu(self.fc2(x))\n",
    "        x = F.relu(self.fc3(x))\n",
    "        x = F.log_softmax(self.fc4(x) , dim = 1)\n",
    "        return x\n",
    "    \n",
    "print('FILLLLLEEEEEEEEEEEE DATAAAAAAAAA : ')\n",
    "s = file.read()\n",
    "print(s)\n",
    "test_img_transforms = transforms.Compose([transforms.Resize(64),\n",
    "                                      transforms.CenterCrop(64),\n",
    "                                      transforms.ToTensor(),\n",
    "                                      transforms.Normalize([0.485, 0.456, 0.406],\n",
    "                                                           [0.229, 0.224, 0.225])])\n",
    "\n",
    "# Pass transforms in here, then run the next cell to see how the transforms look\n",
    "#train_data = datasets.ImageFolder('/home/nilesh/Desktop/MY FILES/hackathon-dataset/raw/apple_data/training', transform=train_transforms)\n",
    "test_data = datasets.ImageFolder(s, transform=test_img_transforms)\n",
    "\n",
    "testloader = torch.utils.data.DataLoader(test_data, batch_size=1 , shuffle = True)\n",
    "\n",
    "_ , (images , _) = next(enumerate(testloader))\n",
    "\n",
    "\n",
    "\n",
    "\n",
    "\n",
    "print('===========================================================================')\n",
    "nn = neural_net()\n",
    "filename = 'finalized_model1.sav'\n",
    "loaded_model = pickle.load(open(filename ,'rb'))\n",
    "\n",
    "pred = torch.exp(loaded_model(images)).argmax().detch().numpy()\n",
    "print(pred)\n",
    "pred_path = file('predicted.txt' , 'w+')\n",
    "file.write(pred)\n",
    "\n",
    "work()"
   ]
  }
 ],
 "metadata": {
  "kernelspec": {
   "display_name": "Python 3",
   "language": "python",
   "name": "python3"
  },
  "language_info": {
   "codemirror_mode": {
    "name": "ipython",
    "version": 3
   },
   "file_extension": ".py",
   "mimetype": "text/x-python",
   "name": "python",
   "nbconvert_exporter": "python",
   "pygments_lexer": "ipython3",
   "version": "3.7.1"
  }
 },
 "nbformat": 4,
 "nbformat_minor": 2
}
