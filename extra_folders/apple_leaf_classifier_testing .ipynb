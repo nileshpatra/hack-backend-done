{
 "cells": [
  {
   "cell_type": "code",
   "execution_count": 1,
   "metadata": {},
   "outputs": [],
   "source": [
    "import torch\n",
    "import torchvision\n",
    "from torch import optim \n",
    "import torch.nn as nn\n",
    "import torch.nn.functional as F\n",
    "from torchvision import transforms,datasets"
   ]
  },
  {
   "cell_type": "code",
   "execution_count": 2,
   "metadata": {},
   "outputs": [],
   "source": [
    "def predict_images(path):\n",
    "    file = open(path,'r')\n",
    "    directory = file.read()\n",
    "    test_img_transforms = transforms.Compose([transforms.Resize(64),\n",
    "                                          transforms.CenterCrop(64),\n",
    "                                          transforms.ToTensor(),\n",
    "                                          transforms.Normalize([0.485, 0.456, 0.406],\n",
    "                                                               [0.229, 0.224, 0.225])])\n",
    "\n",
    "    # Pass transforms in here, then run the next cell to see how the transforms look\n",
    "    #train_data = datasets.ImageFolder('/home/nilesh/Desktop/MY FILES/hackathon-dataset/raw/apple_data/training', transform=train_transforms)\n",
    "    test_data = datasets.ImageFolder(directory, transform=test_img_transforms)\n",
    "\n",
    "    testloader = torch.utils.data.DataLoader(test_data, batch_size=1 , shuffle = True)\n",
    "    return testloader"
   ]
  },
  {
   "cell_type": "code",
   "execution_count": 3,
   "metadata": {},
   "outputs": [],
   "source": [
    "class neural_net(nn.Module):\n",
    "    def __init__(self):\n",
    "        super().__init__()\n",
    "        #64*64*3\n",
    "        self.conv1 = nn.Conv2d(3 , 32 , 3 , padding = 1)\n",
    "        #32*32*32\n",
    "        self.conv2 = nn.Conv2d(32 , 64 , 3 , padding = 1)\n",
    "        #16*16*64\n",
    "        self.conv3 = nn.Conv2d(64 , 32 , 3 , padding = 1)\n",
    "        #8*8*32\n",
    "        self.dropout = nn.Dropout(0.2)\n",
    "        self.pool = nn.MaxPool2d(2,2)\n",
    "        self.fc1 = nn.Linear(8*8*32 , 100)\n",
    "        self.fc2 = nn.Linear(100 , 64)\n",
    "        self.fc3 = nn.Linear(64 , 32)\n",
    "        self.fc4 = nn.Linear(32 , 4)\n",
    "        \n",
    "        \n",
    "    def forward(self , x):\n",
    "        x = self.pool(F.relu(self.conv1(x)))\n",
    "        x = self.pool(F.relu(self.conv2(x)))\n",
    "        x = self.pool(F.relu(self.conv3(x)))\n",
    "        x = x.view(-1 , 8*8*32)\n",
    "        x = self.dropout(x)\n",
    "        x = F.relu(self.fc1(x))\n",
    "        x = F.relu(self.fc2(x))\n",
    "        x = F.relu(self.fc3(x))\n",
    "        x = F.log_softmax(self.fc4(x) , dim = 1)\n",
    "        return x"
   ]
  },
  {
   "cell_type": "code",
   "execution_count": 4,
   "metadata": {},
   "outputs": [],
   "source": [
    "import pickle\n",
    "filename = 'finalized_model1.sav'\n",
    "loaded_model = pickle.load(open(filename ,'rb'))"
   ]
  },
  {
   "cell_type": "code",
   "execution_count": 5,
   "metadata": {},
   "outputs": [
    {
     "data": {
      "text/plain": [
       "neural_net(\n",
       "  (conv1): Conv2d(3, 32, kernel_size=(3, 3), stride=(1, 1), padding=(1, 1))\n",
       "  (conv2): Conv2d(32, 64, kernel_size=(3, 3), stride=(1, 1), padding=(1, 1))\n",
       "  (conv3): Conv2d(64, 32, kernel_size=(3, 3), stride=(1, 1), padding=(1, 1))\n",
       "  (dropout): Dropout(p=0.2)\n",
       "  (pool): MaxPool2d(kernel_size=2, stride=2, padding=0, dilation=1, ceil_mode=False)\n",
       "  (fc1): Linear(in_features=2048, out_features=100, bias=True)\n",
       "  (fc2): Linear(in_features=100, out_features=64, bias=True)\n",
       "  (fc3): Linear(in_features=64, out_features=32, bias=True)\n",
       "  (fc4): Linear(in_features=32, out_features=4, bias=True)\n",
       ")"
      ]
     },
     "execution_count": 5,
     "metadata": {},
     "output_type": "execute_result"
    }
   ],
   "source": [
    "loaded_model"
   ]
  },
  {
   "cell_type": "code",
   "execution_count": 7,
   "metadata": {},
   "outputs": [],
   "source": [
    "def exp_val(path):\n",
    "    _ , (images , _) = next(enumerate(predict_images(path)))\n",
    "    file = open('prediction.txt','w+')\n",
    "    file.write(torch.exp(loaded_model(images)).detch().numpy()[0])"
   ]
  }
 ],
 "metadata": {
  "kernelspec": {
   "display_name": "Python 3",
   "language": "python",
   "name": "python3"
  },
  "language_info": {
   "codemirror_mode": {
    "name": "ipython",
    "version": 3
   },
   "file_extension": ".py",
   "mimetype": "text/x-python",
   "name": "python",
   "nbconvert_exporter": "python",
   "pygments_lexer": "ipython3",
   "version": "3.7.1"
  }
 },
 "nbformat": 4,
 "nbformat_minor": 2
}
